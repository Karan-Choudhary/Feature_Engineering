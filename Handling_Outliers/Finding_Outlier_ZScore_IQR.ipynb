{
 "cells": [
  {
   "cell_type": "markdown",
   "metadata": {},
   "source": [
    "## Identifying Outlier using different techniques"
   ]
  },
  {
   "cell_type": "markdown",
   "metadata": {},
   "source": [
    "Removing Outlier is depend on the problem statement"
   ]
  },
  {
   "cell_type": "markdown",
   "metadata": {},
   "source": [
    "**Machine Learning Algorithms that are sensitive to outliers:**\n",
    "1. Linear Regression\n",
    "2. Logistic Regression\n",
    "3. KMeans Clustering\n",
    "4. Hierarchical Clustering\n",
    "5. PCA\n",
    "6. Neural Networks\n",
    "7. LDA\n",
    "8. DBScan\n",
    "\n",
    "**Machine Learning Algorithms that are not sensitive to outliers:**\n",
    "1. Naive Bayes\n",
    "2. SVM\n",
    "3. Decision Tree\n",
    "4. Ensemble Learning (RF, XGboost, GB)\n",
    "5. K Nearest Neighbors (KNN)"
   ]
  },
  {
   "cell_type": "code",
   "execution_count": 1,
   "metadata": {},
   "outputs": [],
   "source": [
    "import numpy as np\n",
    "import matplotlib.pyplot as plt\n",
    "%matplotlib inline"
   ]
  },
  {
   "cell_type": "code",
   "execution_count": 9,
   "metadata": {},
   "outputs": [],
   "source": [
    "dataset = [14, 28, 23, 18, 14, 20, 21, 14, 17, 23, 108, 28, 17, 24, 25, 20, 29, 24, 17, 15, 18, 20, 107, 18, 13, 20, 26, 25, 16, 23, 17, 19, 18, 12, 24, 120, 29, 14, 13, 29, 28, 12, 17]"
   ]
  },
  {
   "cell_type": "markdown",
   "metadata": {},
   "source": [
    "### Z-score\n",
    "The Z-score is a measure of dispersion. It is calculated as the difference between a data point and the mean of the data. The higher the Z-score, the more the data point is away from the mean. </br>\n",
    "Z = (x - mean) / standard deviation"
   ]
  },
  {
   "cell_type": "code",
   "execution_count": 10,
   "metadata": {},
   "outputs": [],
   "source": [
    "outliers=[]\n",
    "\n",
    "def detect_outlier(data):\n",
    "    threshold = 3\n",
    "    mean = np.mean(data)\n",
    "    std = np.std(data)\n",
    "    for y in data:\n",
    "        z_score = (y - mean) / std\n",
    "        if np.abs(z_score) > threshold:\n",
    "            outliers.append(y)\n",
    "    return outliers"
   ]
  },
  {
   "cell_type": "code",
   "execution_count": 11,
   "metadata": {},
   "outputs": [],
   "source": [
    "outlier_pts = detect_outlier(dataset)"
   ]
  },
  {
   "cell_type": "code",
   "execution_count": 12,
   "metadata": {},
   "outputs": [
    {
     "data": {
      "text/plain": [
       "[108, 107, 120]"
      ]
     },
     "execution_count": 12,
     "metadata": {},
     "output_type": "execute_result"
    }
   ],
   "source": [
    "outlier_pts"
   ]
  },
  {
   "cell_type": "markdown",
   "metadata": {},
   "source": [
    "Here we can see our function detect_outlier successfully detects the outliers i.e. 108, 107 and 120"
   ]
  },
  {
   "cell_type": "markdown",
   "metadata": {},
   "source": [
    "### IQR\n",
    "The Interquartile range is a measure of statistical dispersion. It is the difference between the 75th and 25th percentile of a data set. The higher the IQR, the more the data set is spread out.</br>\n",
    "**Steps**\n",
    "1. Arrange the data in ascending order\n",
    "2. Calculate first (q1) quartile and third (q3) quartile\n",
    "3. Calculate the Interquartile range (IQR) i.e. q3-q1\n",
    "4. Calculate the upper and lower bounds of outliers i.e. q3 + 1.5*IQR and q1 - 1.5*IQR\n",
    "\n",
    "\n",
    "Anything beyond these bounds is an outlier"
   ]
  },
  {
   "cell_type": "code",
   "execution_count": 18,
   "metadata": {},
   "outputs": [
    {
     "data": {
      "text/plain": [
       "[12,\n",
       " 12,\n",
       " 13,\n",
       " 13,\n",
       " 14,\n",
       " 14,\n",
       " 14,\n",
       " 14,\n",
       " 15,\n",
       " 16,\n",
       " 17,\n",
       " 17,\n",
       " 17,\n",
       " 17,\n",
       " 17,\n",
       " 18,\n",
       " 18,\n",
       " 18,\n",
       " 18,\n",
       " 19,\n",
       " 20,\n",
       " 20,\n",
       " 20,\n",
       " 20,\n",
       " 21,\n",
       " 23,\n",
       " 23,\n",
       " 23,\n",
       " 24,\n",
       " 24,\n",
       " 24,\n",
       " 25,\n",
       " 25,\n",
       " 26,\n",
       " 28,\n",
       " 28,\n",
       " 28,\n",
       " 29,\n",
       " 29,\n",
       " 29,\n",
       " 107,\n",
       " 108,\n",
       " 120]"
      ]
     },
     "execution_count": 18,
     "metadata": {},
     "output_type": "execute_result"
    }
   ],
   "source": [
    "sorted(dataset)"
   ]
  },
  {
   "cell_type": "code",
   "execution_count": 14,
   "metadata": {},
   "outputs": [],
   "source": [
    "quartile_1, quartile_3 = np.percentile(dataset, [25, 75])"
   ]
  },
  {
   "cell_type": "code",
   "execution_count": 15,
   "metadata": {},
   "outputs": [
    {
     "name": "stdout",
     "output_type": "stream",
     "text": [
      "17.0 25.0\n"
     ]
    }
   ],
   "source": [
    "print(quartile_1,quartile_3)"
   ]
  },
  {
   "cell_type": "code",
   "execution_count": 16,
   "metadata": {},
   "outputs": [
    {
     "name": "stdout",
     "output_type": "stream",
     "text": [
      "8.0\n"
     ]
    }
   ],
   "source": [
    "# Fund the IQR\n",
    "IQR = quartile_3 - quartile_1\n",
    "print(IQR)"
   ]
  },
  {
   "cell_type": "code",
   "execution_count": 17,
   "metadata": {},
   "outputs": [
    {
     "name": "stdout",
     "output_type": "stream",
     "text": [
      "5.0 37.0\n"
     ]
    }
   ],
   "source": [
    "# Now Find the lower bound and the higher bound value\n",
    "lower_bound = quartile_1 - (1.5 * IQR)\n",
    "upper_bound = quartile_3 + (1.5 * IQR)\n",
    "print(lower_bound,upper_bound)"
   ]
  }
 ],
 "metadata": {
  "interpreter": {
   "hash": "578ce72e72bd9f13049fd4c13d9f5b1c81715c13ddea0a3c61ff70756cb5d6d4"
  },
  "kernelspec": {
   "display_name": "Python 3.9.2 64-bit",
   "language": "python",
   "name": "python3"
  },
  "language_info": {
   "codemirror_mode": {
    "name": "ipython",
    "version": 3
   },
   "file_extension": ".py",
   "mimetype": "text/x-python",
   "name": "python",
   "nbconvert_exporter": "python",
   "pygments_lexer": "ipython3",
   "version": "3.9.2"
  },
  "orig_nbformat": 4
 },
 "nbformat": 4,
 "nbformat_minor": 2
}
